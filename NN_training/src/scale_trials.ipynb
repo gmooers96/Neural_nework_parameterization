{
 "cells": [
  {
   "cell_type": "code",
   "execution_count": 1,
   "id": "1a4f2abd-55f6-4fed-a969-a84ff5b8144d",
   "metadata": {},
   "outputs": [],
   "source": [
    "import zarr\n",
    "import dask.array as da\n",
    "import numpy as np\n",
    "import psutil"
   ]
  },
  {
   "cell_type": "code",
   "execution_count": 2,
   "id": "29f5f2cc-436c-4c93-bec3-c6260d915fc5",
   "metadata": {},
   "outputs": [],
   "source": [
    "def slice_by_lat_index(lats, n_files, n_x):\n",
    "\n",
    "    absolute_differences = np.abs(lats - 70.)\n",
    "    nh_closest_index = np.argmin(absolute_differences)\n",
    "    absolute_differences = np.abs(lats - 70*-1.0)\n",
    "    sh_closest_index = np.argmin(absolute_differences)\n",
    "    \n",
    "    slice_size = n_files * n_x\n",
    "    start_idx = sh_closest_index * slice_size\n",
    "    end_idx = nh_closest_index + slice_size\n",
    "\n",
    "    return int(start_idx), int(end_idx)"
   ]
  },
  {
   "cell_type": "code",
   "execution_count": 3,
   "id": "523111d5-6891-47dc-a347-e599a8869db8",
   "metadata": {},
   "outputs": [],
   "source": [
    "zarr_train = zarr.open(\n",
    "    \"/ocean/projects/ees220005p/gmooers/GM_Data/training_data/Training_Parts/New_Full_Training_dataset.zarr\", mode='r')\n",
    "zarr_test = zarr.open(\n",
    "    \"/ocean/projects/ees220005p/gmooers/GM_Data/training_data/Training_Parts/New_Full_Test_dataset.zarr\", mode='r')"
   ]
  },
  {
   "cell_type": "code",
   "execution_count": 5,
   "id": "c9a14d40-d9d4-4a31-a0f7-5db95a13cd85",
   "metadata": {},
   "outputs": [],
   "source": [
    "lats = zarr_train['lat']\n",
    "lons = zarr_train['lon']\n",
    "num_lats = len(zarr_train['lat'])\n",
    "num_lons = len(zarr_train['lon'])\n",
    "num_files_train = len(zarr_train['sample'])\n",
    "num_files_test = len(zarr_test['sample'])"
   ]
  },
  {
   "cell_type": "code",
   "execution_count": 6,
   "id": "b29d0d67-2de5-480b-b164-261bf1420e46",
   "metadata": {},
   "outputs": [],
   "source": [
    "num_train_hours = num_files_train / (num_lats * num_lons)"
   ]
  },
  {
   "cell_type": "code",
   "execution_count": 7,
   "id": "bcfb2850-1601-4fbb-9d4f-fb4f84502e48",
   "metadata": {},
   "outputs": [],
   "source": [
    "start_idx, end_idx = slice_by_lat_index(lats[:], int(num_files_train/(num_lats*num_lons)), num_lons)"
   ]
  },
  {
   "cell_type": "code",
   "execution_count": 8,
   "id": "4b03c250-a379-4f49-8d13-4aa62b1ce385",
   "metadata": {},
   "outputs": [],
   "source": [
    "variables = ['Tin','qin','terra','sfc_pres',]\n",
    "#'Tout', 'T_adv_out','q_adv_out','q_auto_out','q_sed_flux_tot']"
   ]
  },
  {
   "cell_type": "code",
   "execution_count": 9,
   "id": "b07a9383-54ed-427f-ae6a-8570bd671943",
   "metadata": {},
   "outputs": [],
   "source": [
    "splice = 100000"
   ]
  },
  {
   "cell_type": "code",
   "execution_count": 10,
   "id": "236ea493-6c73-43a1-a07a-db3d6428a8f0",
   "metadata": {},
   "outputs": [],
   "source": [
    "stats = {}\n",
    "scaled_train_arrays = {}\n",
    "\n",
    "for var in variables:\n",
    "    # Load variable as Dask array\n",
    "    train_dask_array = da.from_zarr(zarr_train[var])\n",
    "    mean = train_dask_array.mean()\n",
    "    std = train_dask_array.std()\n",
    "    start_idx, end_idx = slice_by_lat_index(lats[:], num_train_hours, num_lons)\n",
    "    train_dask_array[:start_idx] = 0\n",
    "    train_dask_array[end_idx:] = 0\n",
    "    if len(train_dask_array.shape) == 2:\n",
    "        train_dask_array = train_dask_array[:, :splice]\n",
    "    if len(train_dask_array.shape) == 1:\n",
    "        train_dask_array = train_dask_array[:splice]\n",
    "\n",
    "    # Compute mean and std\n",
    "    stats[var] = {\n",
    "        'mean': mean,\n",
    "        'std': std,\n",
    "    }\n",
    "\n",
    "    # Apply scaling to the test array\n",
    "    scaled_train_dask_array = (train_dask_array - mean) / std\n",
    "    \n",
    "    # Store the scaled array\n",
    "    scaled_train_arrays[var] = scaled_train_dask_array"
   ]
  },
  {
   "cell_type": "code",
   "execution_count": 11,
   "id": "5c35f6c9-5178-42d4-82dc-25d01c0c363d",
   "metadata": {},
   "outputs": [
    {
     "data": {
      "text/plain": [
       "{'Tin': dask.array<truediv, shape=(49, 100000), dtype=float32, chunksize=(49, 100000), chunktype=numpy.ndarray>,\n",
       " 'qin': dask.array<truediv, shape=(49, 100000), dtype=float32, chunksize=(49, 100000), chunktype=numpy.ndarray>,\n",
       " 'terra': dask.array<truediv, shape=(49, 100000), dtype=float32, chunksize=(49, 100000), chunktype=numpy.ndarray>,\n",
       " 'sfc_pres': dask.array<truediv, shape=(100000,), dtype=float32, chunksize=(100000,), chunktype=numpy.ndarray>}"
      ]
     },
     "execution_count": 11,
     "metadata": {},
     "output_type": "execute_result"
    }
   ],
   "source": [
    "scaled_train_arrays"
   ]
  },
  {
   "cell_type": "code",
   "execution_count": 39,
   "id": "4aab943e-3709-4aba-8e9b-5c85d1df6ad0",
   "metadata": {},
   "outputs": [],
   "source": [
    "dask_arrays = []\n",
    "for key, array in scaled_train_arrays.items():\n",
    "    if array.ndim == 1:\n",
    "        array = array[np.newaxis, :]\n",
    "    dask_arrays.append(array)\n",
    "\n",
    "# Concatenate along axis 0\n",
    "combined_array = da.concatenate(dask_arrays, axis=0)"
   ]
  },
  {
   "cell_type": "code",
   "execution_count": 42,
   "id": "d817473c-2ab2-443c-9f17-2fd48250d55c",
   "metadata": {},
   "outputs": [
    {
     "data": {
      "text/plain": [
       "dask.array.core.Array"
      ]
     },
     "execution_count": 42,
     "metadata": {},
     "output_type": "execute_result"
    }
   ],
   "source": [
    "type(combined_array)"
   ]
  },
  {
   "cell_type": "code",
   "execution_count": null,
   "id": "53bf7ff8-3462-41e6-8afc-48c7e7200f13",
   "metadata": {},
   "outputs": [],
   "source": []
  },
  {
   "cell_type": "code",
   "execution_count": null,
   "id": "c8f19ffc-fefe-45b4-b1d2-5ead8a3ed840",
   "metadata": {},
   "outputs": [],
   "source": []
  },
  {
   "cell_type": "code",
   "execution_count": null,
   "id": "3e39a9a9-4a61-4124-a70a-784fd98cfc7c",
   "metadata": {},
   "outputs": [],
   "source": []
  },
  {
   "cell_type": "code",
   "execution_count": 41,
   "id": "ae8a47e3-4098-4e5b-9373-90f07c91304a",
   "metadata": {},
   "outputs": [
    {
     "data": {
      "text/plain": [
       "(148, 100000)"
      ]
     },
     "execution_count": 41,
     "metadata": {},
     "output_type": "execute_result"
    }
   ],
   "source": [
    "combined_array.shape"
   ]
  },
  {
   "cell_type": "code",
   "execution_count": 34,
   "id": "d72134ba-9f94-4a52-97a6-83d21c9aec2a",
   "metadata": {},
   "outputs": [
    {
     "data": {
      "text/plain": [
       "dask.array.core.Array"
      ]
     },
     "execution_count": 34,
     "metadata": {},
     "output_type": "execute_result"
    }
   ],
   "source": [
    "type(train_dask_array)"
   ]
  },
  {
   "cell_type": "code",
   "execution_count": 35,
   "id": "6920c622-aece-4c67-8a7a-205605abbeec",
   "metadata": {},
   "outputs": [
    {
     "data": {
      "text/plain": [
       "{'Tin': dask.array<truediv, shape=(49, 100000), dtype=float32, chunksize=(49, 100000), chunktype=numpy.ndarray>,\n",
       " 'qin': dask.array<truediv, shape=(49, 100000), dtype=float32, chunksize=(49, 100000), chunktype=numpy.ndarray>,\n",
       " 'terra': dask.array<truediv, shape=(49, 100000), dtype=float32, chunksize=(49, 100000), chunktype=numpy.ndarray>,\n",
       " 'sfc_pres': dask.array<truediv, shape=(100000,), dtype=float32, chunksize=(100000,), chunktype=numpy.ndarray>,\n",
       " 'Tout': dask.array<truediv, shape=(49, 100000), dtype=float64, chunksize=(49, 100000), chunktype=numpy.ndarray>,\n",
       " 'T_adv_out': dask.array<truediv, shape=(49, 100000), dtype=float32, chunksize=(49, 100000), chunktype=numpy.ndarray>,\n",
       " 'q_adv_out': dask.array<truediv, shape=(49, 100000), dtype=float32, chunksize=(49, 100000), chunktype=numpy.ndarray>,\n",
       " 'q_auto_out': dask.array<truediv, shape=(49, 100000), dtype=float32, chunksize=(49, 100000), chunktype=numpy.ndarray>,\n",
       " 'q_sed_flux_tot': dask.array<truediv, shape=(49, 100000), dtype=float32, chunksize=(49, 100000), chunktype=numpy.ndarray>}"
      ]
     },
     "execution_count": 35,
     "metadata": {},
     "output_type": "execute_result"
    }
   ],
   "source": [
    "scaled_train_arrays"
   ]
  },
  {
   "cell_type": "code",
   "execution_count": null,
   "id": "03116502-1982-478b-af67-f3dbf7fdb9d2",
   "metadata": {},
   "outputs": [],
   "source": [
    "scaled_test_arrays = {}\n",
    "\n",
    "# Scale the test set variables using the computed statistics\n",
    "for var in variables:\n",
    "    # Load variable as Dask array from the test set\n",
    "    test_dask_array = da.from_zarr(zarr_test[var])\n",
    "    \n",
    "    # Retrieve mean and std from the train set\n",
    "    mean = stats[var]['mean']\n",
    "    std = stats[var]['std']\n",
    "    \n",
    "    # Apply scaling to the test array\n",
    "    scaled_test_dask_array = (test_dask_array - mean) / std\n",
    "    \n",
    "    # Store the scaled array\n",
    "    scaled_test_arrays[var] = scaled_test_dask_array"
   ]
  },
  {
   "cell_type": "code",
   "execution_count": null,
   "id": "72509f90-5df0-49fa-8d2f-53d64cb72ba8",
   "metadata": {},
   "outputs": [],
   "source": []
  },
  {
   "cell_type": "code",
   "execution_count": null,
   "id": "91567bcd-b8d3-4dc3-9bcc-8620e2c20319",
   "metadata": {},
   "outputs": [],
   "source": [
    "scaled_train_zarr_store = zarr.open(\n",
    "    \"/ocean/projects/ees220005p/gmooers/GM_Data/training_data/Training_Parts/New_Scaled_Full_Training_dataset.zarr\", mode='w')\n",
    "scaled_test_zarr_store = zarr.open(\n",
    "    \"/ocean/projects/ees220005p/gmooers/GM_Data/training_data/Training_Parts/New_Scaled_Full_Test_dataset.zarr\", mode='w')\n",
    "\n",
    "for var, scaled_array in scaled_train_arrays.items():\n",
    "    scaled_array.to_zarr(scaled_train_zarr_store, component=var, overwrite=True)"
   ]
  },
  {
   "cell_type": "code",
   "execution_count": null,
   "id": "ece3b6a0-e1fe-4fe6-8896-d19a6532be39",
   "metadata": {},
   "outputs": [],
   "source": [
    "for var, scaled_array in scaled_test_arrays.items():\n",
    "    scaled_array.to_zarr(scaled_test_zarr_store, component=var, overwrite=True)"
   ]
  }
 ],
 "metadata": {
  "kernelspec": {
   "display_name": "Python 3 (ipykernel)",
   "language": "python",
   "name": "python3"
  },
  "language_info": {
   "codemirror_mode": {
    "name": "ipython",
    "version": 3
   },
   "file_extension": ".py",
   "mimetype": "text/x-python",
   "name": "python",
   "nbconvert_exporter": "python",
   "pygments_lexer": "ipython3",
   "version": "3.9.19"
  }
 },
 "nbformat": 4,
 "nbformat_minor": 5
}
