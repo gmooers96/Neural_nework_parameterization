{
 "cells": [
  {
   "cell_type": "code",
   "execution_count": 1,
   "metadata": {},
   "outputs": [],
   "source": [
    "import xarray as xr\n",
    "import dask\n",
    "import numpy as np"
   ]
  },
  {
   "cell_type": "code",
   "execution_count": 2,
   "metadata": {},
   "outputs": [],
   "source": [
    "ds = xr.open_mfdataset(\"/ocean/projects/ees220005p/gmooers/GM_Data/training_data/Training_Parts/P**[07].nc\",\n",
    "                      concat_dim=\"sample\")"
   ]
  },
  {
   "cell_type": "code",
   "execution_count": 3,
   "metadata": {},
   "outputs": [],
   "source": [
    "ds_weight = xr.open_mfdataset(\"/ocean/projects/ees220005p/gmooers/GM_Data/training_data/Training_Parts/P**w8s.nc\",\n",
    "                      concat_dim=\"sample\")"
   ]
  },
  {
   "cell_type": "code",
   "execution_count": 4,
   "metadata": {},
   "outputs": [],
   "source": [
    "norms = ds_weight.norms"
   ]
  },
  {
   "cell_type": "code",
   "execution_count": 5,
   "metadata": {},
   "outputs": [],
   "source": [
    "norms = norms.values"
   ]
  },
  {
   "cell_type": "code",
   "execution_count": 6,
   "metadata": {},
   "outputs": [],
   "source": [
    "my_norm = np.mean(norms, axis=0)"
   ]
  },
  {
   "cell_type": "code",
   "execution_count": 7,
   "metadata": {},
   "outputs": [],
   "source": [
    "my_weight_dict = {}\n",
    "my_weight_dict[\"norms\"] = ((\"norm\"), my_norm)\n",
    "ds_weight_new = xr.Dataset(\n",
    "        my_weight_dict,\n",
    "            coords={\n",
    "                \"norm\":np.arange(1,6,1),\n",
    "            },\n",
    "        )"
   ]
  },
  {
   "cell_type": "code",
   "execution_count": null,
   "metadata": {},
   "outputs": [],
   "source": [
    "ds_weight_new.to_netcdf('/ocean/projects/ees220005p/gmooers/GM_Data/training_data/Training_Parts/All_Weights.nc')\n",
    "ds.to_netcdf('/ocean/projects/ees220005p/gmooers/GM_Data/training_data/Training_Parts/Full_Training_dataset.nc')"
   ]
  }
 ],
 "metadata": {
  "kernelspec": {
   "display_name": "Python 3",
   "language": "python",
   "name": "python3"
  },
  "language_info": {
   "codemirror_mode": {
    "name": "ipython",
    "version": 3
   },
   "file_extension": ".py",
   "mimetype": "text/x-python",
   "name": "python",
   "nbconvert_exporter": "python",
   "pygments_lexer": "ipython3",
   "version": "3.7.3"
  }
 },
 "nbformat": 4,
 "nbformat_minor": 4
}
