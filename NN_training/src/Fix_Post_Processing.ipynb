{
 "cells": [
  {
   "cell_type": "code",
   "execution_count": null,
   "id": "b8ecac59-2f83-4740-b34c-fc65243c7d81",
   "metadata": {},
   "outputs": [],
   "source": [
    "import post_processing_figures as post_processing_figures\n",
    "import numpy as np"
   ]
  },
  {
   "cell_type": "code",
   "execution_count": null,
   "id": "dd53130c-52fe-48df-9af5-40a50638e8b4",
   "metadata": {},
   "outputs": [],
   "source": [
    "my_z = 49\n",
    "output_vert_vars = ['Tout', 'T_adv_out','q_adv_out','q_auto_out','q_sed_flux_tot']\n",
    "save_path =  '/ocean/projects/ees220005p/gmooers/Investigations/Model_Performance/'\n",
    "nametag = 'temp'\n",
    "single_file = '/ocean/projects/ees220005p/gmooers/GM_Data/DYAMOND2_coars_9216x4608x74_10s_4608_20200120030000_0000001080.atm.3D_resolved.nc4'\n"
   ]
  },
  {
   "cell_type": "code",
   "execution_count": null,
   "id": "42ca6b0b-7256-4e45-8ee5-1063648f2f8c",
   "metadata": {},
   "outputs": [],
   "source": [
    "truths = np.load(\"/ocean/projects/ees220005p/gmooers/GM_Data/training_data/Temp_Data/Truth.npy\")\n",
    "preds = np.load(\"/ocean/projects/ees220005p/gmooers/GM_Data/training_data/Temp_Data/Pred.npy\")"
   ]
  },
  {
   "cell_type": "code",
   "execution_count": null,
   "id": "bc653deb-4eea-4272-afe6-5707578d2f55",
   "metadata": {},
   "outputs": [],
   "source": [
    "post_processing_figures.main_plotting(truth=truths,\n",
    "                                              pred=preds, \n",
    "                                              raw_data=single_file,\n",
    "                                              z_dim=my_z,\n",
    "                                             var_names=output_vert_vars,\n",
    "                                              save_path=save_path,\n",
    "                                              nametag=nametag,\n",
    "                                             )"
   ]
  },
  {
   "cell_type": "code",
   "execution_count": 1,
   "id": "5d62f7e3-7e1d-40f4-ba8a-adfc2d809130",
   "metadata": {},
   "outputs": [
    {
     "name": "stdout",
     "output_type": "stream",
     "text": [
      "/ocean/projects/ees220005p/gmooers/Githubs/Neural_nework_parameterization/NN_training/src\n"
     ]
    }
   ],
   "source": [
    "!pwd"
   ]
  },
  {
   "cell_type": "code",
   "execution_count": null,
   "id": "69a2ed96-5d0d-4d69-a441-d51d42c017fa",
   "metadata": {},
   "outputs": [],
   "source": []
  }
 ],
 "metadata": {
  "kernelspec": {
   "display_name": "Python 3 (ipykernel)",
   "language": "python",
   "name": "python3"
  },
  "language_info": {
   "codemirror_mode": {
    "name": "ipython",
    "version": 3
   },
   "file_extension": ".py",
   "mimetype": "text/x-python",
   "name": "python",
   "nbconvert_exporter": "python",
   "pygments_lexer": "ipython3",
   "version": "3.9.19"
  }
 },
 "nbformat": 4,
 "nbformat_minor": 5
}
