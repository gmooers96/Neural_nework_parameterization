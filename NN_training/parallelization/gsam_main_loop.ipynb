{
 "cells": [
  {
   "cell_type": "code",
   "execution_count": null,
   "metadata": {},
   "outputs": [],
   "source": [
    "import pdb \n",
    "import coarse_functions as cfunc\n",
    "import os\n",
    "import numpy as np\n",
    "import matplotlib.pyplot as plt\n",
    "import pickle\n",
    "from netCDF4 import Dataset\n",
    "import time\n",
    "import math\n",
    "import xarray as xr\n",
    "import glob\n",
    "from os.path import exists\n",
    "from scipy.interpolate import interp1d\n",
    "\n",
    "import advect_scalar3D_f2py_my_min2"
   ]
  },
  {
   "cell_type": "code",
   "execution_count": null,
   "metadata": {},
   "outputs": [],
   "source": [
    "ncfile = '/ocean/projects/ees220005p/janniy/gsam_data/SAM7.7_test/DYAMOND2_9216x4608x74_10s_4608_20200214121500_0000220410.2D_atm.nc'\n",
    "f_solin = Dataset(ncfile, mode='r')\n",
    "topog_high = f_solin.variables['ZSFC'][:]  # m\n",
    "lat_high = f_solin.variables['lat'][:]  # m\n",
    "lon_high = f_solin.variables['lon'][:]  # m\n",
    "f_solin.close()"
   ]
  },
  {
   "cell_type": "code",
   "execution_count": null,
   "metadata": {},
   "outputs": [],
   "source": [
    "number_of_files = 1\n",
    "## Griffin's comment - was originally 1080\n",
    "start_time=137880       \n",
    "interval = 360 \n",
    "end_time = start_time  + interval * (number_of_files)"
   ]
  },
  {
   "cell_type": "code",
   "execution_count": null,
   "metadata": {},
   "outputs": [],
   "source": [
    "compare_flag = False #compare to matlab\n",
    "test_mode = False #compare to matlab when writing NETCDF\n",
    "test_mode1D = False #compare 1D to matlab when writing NETCDF - should be off.\n",
    "res = [12]\n",
    "dtn = 10"
   ]
  },
  {
   "cell_type": "code",
   "execution_count": null,
   "metadata": {},
   "outputs": [],
   "source": [
    "experiment = 'DYAMOND2_coars_9216x4608x74_10s_4608'\n",
    "loaddir = '/ocean/projects/ees220005p/janniy/gsam_data/'\n",
    "\n",
    "if test_mode or compare_flag:\n",
    "    print('To do test mode, for now I didnt write schemes')\n",
    "else:\n",
    "    filename = 'Dummy'\n",
    "\n",
    "savedir = '/ocean/projects/ees220005p/gmooers/GM_Data/'\n",
    "file_coarse1 = '/ocean/projects/ees220005p/janniy/gsam_data/DYAMOND2_coars_9216x4608x74_10s_4608_20200124120000_0000038880.atm.3DC.nc'\n",
    "#Read hires"
   ]
  },
  {
   "cell_type": "code",
   "execution_count": null,
   "metadata": {},
   "outputs": [],
   "source": [
    "start = time.time()\n",
    "f = Dataset(file_coarse1, mode='r')\n",
    "lon = f.variables['lon'][:]\n",
    "lat = f.variables['lat'][:]\n",
    "z = f.variables['z'][:]\n",
    "zi = f.variables['zi'][:]\n",
    "rho = f.variables['rho'][:]  # m\n",
    "rhow2 = f.variables['rhoi'][:]  # m\n",
    "p = f.variables['p'][:]  # m\n",
    "\n",
    "f.close()"
   ]
  },
  {
   "cell_type": "code",
   "execution_count": null,
   "metadata": {},
   "outputs": [],
   "source": [
    "rhow = np.zeros(rhow2.shape[0] + 1)\n",
    "rhow[:-1] = rhow2\n",
    "rhow[-1] = rhow2[-1]\n",
    "\n",
    "#The zi in file is for some reason wrong in the sense that it is not always between the z levels). Not sure what to use\n",
    "zi_from_marat = np.array ([0.0000000, 40., 82.40000, 127.3440, 174.9846,\n",
    "   225.4837,       279.0128,       335.7535,       395.8987,       459.6526,\n",
    "   527.2318,       598.8657,       674.7977,       755.2855,       840.6027,\n",
    "   931.0388,       1026.901,       1129.591,       1242.550,       1366.805,\n",
    "   1503.486,       1653.834,       1819.218,       2001.140,       2201.311,\n",
    "   2431.507,       2696.233,       3000.668,       3350.769,       3753.384,\n",
    "   4216.392,       4716.392,       5216.392,       5716.392,       6216.392,\n",
    "   6716.392,       7216.392,       7716.392,       8216.392,       8716.392,\n",
    "   9216.392,       9716.392,       10216.39,       10716.39,      11216.39,\n",
    "   11716.39,       12216.39,       12716.39,       13216.39,       13716.39,\n",
    "   14216.39,       14716.39,       15216.39,       15716.39,       16216.39,\n",
    "   16716.39,       17216.39,       17716.39,       18216.39,       18747.30,\n",
    "   19354.06,       20047.50,       20840.00,       21745.71,       22780.81,\n",
    "   23963.79,       25315.76,       26815.76,       28315.76,       29815.76,\n",
    "   31315.76,       32815.76,       34315.76,       35815.76,       37315.76])\n",
    "\n",
    "zi = zi_from_marat\n",
    "print('Marat printed zi that might have an unclear error - therefore, changed manually (data from Marat)')"
   ]
  },
  {
   "cell_type": "code",
   "execution_count": null,
   "metadata": {},
   "outputs": [],
   "source": [
    "nzm = z.shape[0]\n",
    "lon_size = lon.shape[0]\n",
    "lat_size = lat.shape[0]\n",
    "nz_size = z.shape[0]\n",
    "\n",
    "\n",
    "mu = np.zeros(lat_size)\n",
    "ady = np.zeros(lat_size)\n",
    "muv = np.zeros(lat_size + 1)\n",
    "\n",
    "#from setparam\n",
    "ny_gl = lat.shape[0]\n",
    "dy = 179.98 / ny_gl\n",
    "earth_factor = 1\n",
    "rad_earth = 6371229\n",
    "deg2rad = np.pi / 180\n",
    "dy = dy * deg2rad * rad_earth / earth_factor\n",
    "for j in range(lat_size):\n",
    "    mu[j] = np.cos(lat[j] * deg2rad)\n",
    "\n",
    "mu_extend = np.zeros(lat_size + 4)\n",
    "mu_extend[2:-2] = mu\n",
    "mu_extend[1] = mu_extend[2] / 2  \n",
    "mu_extend[0] = mu_extend[1] / 2 \n",
    "mu_extend[-2] = mu_extend[-3]/2\n",
    "mu_extend[-1] = mu_extend[-2]/2"
   ]
  },
  {
   "cell_type": "code",
   "execution_count": null,
   "metadata": {},
   "outputs": [],
   "source": [
    "latv_gl_high = np.zeros(lat_high.shape[0] + 1)\n",
    "latv_gl_high[0] = -90\n",
    "latv_gl_high[-1] = 90\n",
    "\n",
    "for j in range(1,latv_gl_high.shape[0]-1):\n",
    "    latv_gl_high[j] = 0.5*(lat_high[j]  + lat_high[j-1])\n",
    "\n",
    "yv_gl_glob_2_high = latv_gl_high[:]*deg2rad*rad_earth/earth_factor    \n",
    "\n",
    "dy_high = 179.98 / lat_high.shape[0]\n",
    "dy_high = dy_high * deg2rad * rad_earth / earth_factor\n",
    "\n",
    "y_gl_glob_2_high= np.zeros(lat_high.shape[0])\n",
    "for j in range(lat_high.shape[0]):\n",
    "    y_gl_glob_2_high[j] = 0.5*(yv_gl_glob_2_high[j + 1]+yv_gl_glob_2_high[j])\n",
    "\n",
    "\n",
    "##from setgrid\n",
    "dy2_high = y_gl_glob_2_high[int(lat_high.shape[0]/2)]-y_gl_glob_2_high[int(lat_high.shape[0]/2 - 1)]\n",
    "ady_glob_high3 = np.zeros(lat_high.shape[0])\n",
    "for j in range( lat_high.shape[0]):\n",
    "    ady_glob_high3[j] = (yv_gl_glob_2_high[j+1]-yv_gl_glob_2_high[j])/dy2_high\n",
    "print('ady_glob_high3 is the correct one to use for calculating the j_start and j_end')\n",
    "\n",
    "j_start,j_end = cfunc.calc_y_ind_edge_processor(ady_glob_high3, lat_high.shape[0], int(lat_size), ny_coarse_proc=29, coarse_fact=12, processor_points=96)"
   ]
  },
  {
   "cell_type": "code",
   "execution_count": null,
   "metadata": {},
   "outputs": [],
   "source": [
    "# Calculating coarse topography related quantities.\n",
    "path_terra_coare = '/ocean/projects/ees220005p/janniy/python_fortran_coarse_graining/f2py_global_sam/files_coarse_JY/'\n",
    "terra_path = 'coarse_points.nc4'\n",
    "if not os.path.isfile(path_terra_coare + terra_path):\n",
    "    # Create files\n",
    "    terra_points = np.zeros([lon_size, lat_size, nz_size])\n",
    "    terra_tot = np.zeros([lon_size, lat_size, nz_size])\n",
    "    for k in range(nz_size):\n",
    "        terra_w_path = '/ocean/projects/ees220005p/janniy/gsam_data/high_res_snapshot/DYAMOND2_9216x4608x74_10s_4608_TERR_MASKS_TERRA.atm.3D.nc'\n",
    "        slice_ter_tot_surf = dict()\n",
    "        d = Dataset(terra_w_path, 'r')\n",
    "        data = d.variables['TERRA']\n",
    "        slice_ter_tot_surf['TERRA'] = data[:, k, :, :]\n",
    "        del data\n",
    "        d.close()\n",
    "\n",
    "        terra_mvax = np.moveaxis(slice_ter_tot_surf['TERRA'], (0, 1, 2), (2, 1, 0))\n",
    "        aa, bb = terra_num_of_points(terra_mvax, lon_size, lat_size, k, k + 1, j_start, j_end, coarseness=12)\n",
    "        terra_points[:, :, k] = aa[:, :, 0]\n",
    "        terra_tot[:, :, k] = bb[:, :, 0]\n",
    "        print('SAVE TERRA points (TODO)')\n",
    "        lat_coarse = lat\n",
    "        lon_coarse = lon\n",
    "\n",
    "    netxarr = xr.DataArray(\n",
    "        data=np.moveaxis(terra_points, (0, 1, 2), (2, 1, 0)).astype(np.float32),\n",
    "        dims=['z', 'lat_coarse', 'lon_coarse'],\n",
    "        coords=dict(\n",
    "            z=('z', z),\n",
    "            lat_coarse=('lat_coarse', lat_coarse),\n",
    "            lon_coarse=('lon_coarse', lon_coarse),\n",
    "        ),\n",
    "        attrs=dict(\n",
    "            description='Number of point above terra',\n",
    "            units=\"number\",\n",
    "        )\n",
    "    )\n",
    "\n",
    "    netxarr = netxarr.rename('Terra_points')\n",
    "    netset = netxarr.to_dataset()\n",
    "\n",
    "    netxarr2 = xr.DataArray(\n",
    "        data=np.moveaxis(terra_tot, (0, 1, 2), (2, 1, 0)).astype(np.float32),\n",
    "        dims=['z', 'lat_coarse', 'lon_coarse'],\n",
    "        coords=dict(\n",
    "            z=('z', z),\n",
    "            lat_coarse=('lat_coarse', lat_coarse),\n",
    "            lon_coarse=('lon_coarse', lon_coarse),\n",
    "        ),\n",
    "        attrs=dict(\n",
    "            description='Total Number of point in coarse graining',\n",
    "            units=\"number\",\n",
    "        )\n",
    "    )\n",
    "    netset['Terra_tot'] = netxarr2\n",
    "    netset.to_netcdf(path=path_terra_coare + terra_path, mode='w', format='NETCDF4')"
   ]
  },
  {
   "cell_type": "code",
   "execution_count": null,
   "metadata": {},
   "outputs": [],
   "source": []
  },
  {
   "cell_type": "code",
   "execution_count": null,
   "metadata": {},
   "outputs": [],
   "source": []
  },
  {
   "cell_type": "code",
   "execution_count": null,
   "metadata": {},
   "outputs": [],
   "source": []
  },
  {
   "cell_type": "code",
   "execution_count": null,
   "metadata": {},
   "outputs": [],
   "source": []
  },
  {
   "cell_type": "code",
   "execution_count": null,
   "metadata": {},
   "outputs": [],
   "source": []
  },
  {
   "cell_type": "code",
   "execution_count": null,
   "metadata": {},
   "outputs": [],
   "source": []
  },
  {
   "cell_type": "code",
   "execution_count": null,
   "metadata": {},
   "outputs": [],
   "source": []
  },
  {
   "cell_type": "code",
   "execution_count": null,
   "metadata": {},
   "outputs": [],
   "source": []
  },
  {
   "cell_type": "code",
   "execution_count": null,
   "metadata": {},
   "outputs": [],
   "source": []
  },
  {
   "cell_type": "code",
   "execution_count": null,
   "metadata": {},
   "outputs": [],
   "source": []
  },
  {
   "cell_type": "code",
   "execution_count": null,
   "metadata": {},
   "outputs": [],
   "source": []
  },
  {
   "cell_type": "code",
   "execution_count": null,
   "metadata": {},
   "outputs": [],
   "source": []
  },
  {
   "cell_type": "code",
   "execution_count": null,
   "metadata": {},
   "outputs": [],
   "source": []
  },
  {
   "cell_type": "code",
   "execution_count": null,
   "metadata": {},
   "outputs": [],
   "source": []
  },
  {
   "cell_type": "code",
   "execution_count": null,
   "metadata": {},
   "outputs": [],
   "source": []
  },
  {
   "cell_type": "code",
   "execution_count": null,
   "metadata": {},
   "outputs": [],
   "source": []
  },
  {
   "cell_type": "code",
   "execution_count": null,
   "metadata": {},
   "outputs": [],
   "source": []
  },
  {
   "cell_type": "code",
   "execution_count": null,
   "metadata": {},
   "outputs": [],
   "source": []
  },
  {
   "cell_type": "code",
   "execution_count": null,
   "metadata": {},
   "outputs": [],
   "source": []
  },
  {
   "cell_type": "code",
   "execution_count": null,
   "metadata": {},
   "outputs": [],
   "source": []
  },
  {
   "cell_type": "code",
   "execution_count": null,
   "metadata": {},
   "outputs": [],
   "source": []
  },
  {
   "cell_type": "code",
   "execution_count": null,
   "metadata": {},
   "outputs": [],
   "source": []
  }
 ],
 "metadata": {
  "kernelspec": {
   "display_name": "Python 3",
   "language": "python",
   "name": "python3"
  },
  "language_info": {
   "codemirror_mode": {
    "name": "ipython",
    "version": 3
   },
   "file_extension": ".py",
   "mimetype": "text/x-python",
   "name": "python",
   "nbconvert_exporter": "python",
   "pygments_lexer": "ipython3",
   "version": "3.7.3"
  }
 },
 "nbformat": 4,
 "nbformat_minor": 4
}
